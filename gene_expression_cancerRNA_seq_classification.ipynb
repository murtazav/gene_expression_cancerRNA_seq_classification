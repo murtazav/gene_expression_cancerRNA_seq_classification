{
  "nbformat": 4,
  "nbformat_minor": 0,
  "metadata": {
    "colab": {
      "name": "gene_expression_cancerRNA-seq_classification.ipynb",
      "version": "0.3.2",
      "provenance": [],
      "include_colab_link": true
    },
    "kernelspec": {
      "name": "python3",
      "display_name": "Python 3"
    }
  },
  "cells": [
    {
      "cell_type": "markdown",
      "metadata": {
        "id": "view-in-github",
        "colab_type": "text"
      },
      "source": [
        "<a href=\"https://colab.research.google.com/github/murtazav/gene_expression_cancerRNA_seq_classification/blob/master/gene_expression_cancerRNA_seq_classification.ipynb\" target=\"_parent\"><img src=\"https://colab.research.google.com/assets/colab-badge.svg\" alt=\"Open In Colab\"/></a>"
      ]
    },
    {
      "metadata": {
        "id": "xdyTt9Nj6HWG",
        "colab_type": "code",
        "colab": {}
      },
      "cell_type": "code",
      "source": [
        "# Importing the libraries\n",
        "import numpy as np\n",
        "import matplotlib.pyplot as plt\n",
        "import pandas as pd\n",
        "\n",
        "# Importing the dataset\n",
        "dataset = pd.read_csv('data/data.csv')\n",
        "labels=pd.read_csv('data/labels.csv')\n",
        "X = dataset.iloc[:, 1:].values\n",
        "y = labels.iloc[:, 1].values\n",
        "\n",
        "\n"
      ],
      "execution_count": 0,
      "outputs": []
    },
    {
      "metadata": {
        "id": "HO3vtWeuAbZa",
        "colab_type": "code",
        "colab": {
          "base_uri": "https://localhost:8080/",
          "height": 1378
        },
        "outputId": "e478691d-16f8-4c57-cd2d-f4ad1fd4d5fa"
      },
      "cell_type": "code",
      "source": [
        "print(y)"
      ],
      "execution_count": 31,
      "outputs": [
        {
          "output_type": "stream",
          "text": [
            "['PRAD' 'LUAD' 'PRAD' 'PRAD' 'BRCA' 'PRAD' 'KIRC' 'PRAD' 'BRCA' 'PRAD'\n",
            " 'BRCA' 'KIRC' 'PRAD' 'BRCA' 'BRCA' 'BRCA' 'LUAD' 'KIRC' 'KIRC' 'PRAD'\n",
            " 'BRCA' 'KIRC' 'LUAD' 'BRCA' 'KIRC' 'LUAD' 'COAD' 'BRCA' 'BRCA' 'BRCA'\n",
            " 'BRCA' 'BRCA' 'KIRC' 'BRCA' 'PRAD' 'BRCA' 'KIRC' 'LUAD' 'BRCA' 'BRCA'\n",
            " 'KIRC' 'PRAD' 'PRAD' 'KIRC' 'KIRC' 'BRCA' 'PRAD' 'COAD' 'BRCA' 'LUAD'\n",
            " 'BRCA' 'LUAD' 'BRCA' 'PRAD' 'COAD' 'BRCA' 'BRCA' 'COAD' 'KIRC' 'BRCA'\n",
            " 'LUAD' 'KIRC' 'BRCA' 'LUAD' 'PRAD' 'COAD' 'BRCA' 'PRAD' 'KIRC' 'BRCA'\n",
            " 'KIRC' 'BRCA' 'BRCA' 'LUAD' 'BRCA' 'LUAD' 'BRCA' 'KIRC' 'PRAD' 'COAD'\n",
            " 'BRCA' 'PRAD' 'BRCA' 'BRCA' 'PRAD' 'PRAD' 'BRCA' 'BRCA' 'KIRC' 'BRCA'\n",
            " 'PRAD' 'PRAD' 'BRCA' 'BRCA' 'BRCA' 'PRAD' 'COAD' 'BRCA' 'PRAD' 'BRCA'\n",
            " 'BRCA' 'KIRC' 'BRCA' 'KIRC' 'LUAD' 'KIRC' 'LUAD' 'COAD' 'LUAD' 'LUAD'\n",
            " 'PRAD' 'BRCA' 'LUAD' 'PRAD' 'BRCA' 'KIRC' 'KIRC' 'KIRC' 'BRCA' 'BRCA'\n",
            " 'LUAD' 'KIRC' 'LUAD' 'BRCA' 'PRAD' 'PRAD' 'PRAD' 'BRCA' 'KIRC' 'LUAD'\n",
            " 'COAD' 'BRCA' 'COAD' 'BRCA' 'BRCA' 'KIRC' 'LUAD' 'BRCA' 'KIRC' 'COAD'\n",
            " 'BRCA' 'PRAD' 'BRCA' 'KIRC' 'LUAD' 'COAD' 'PRAD' 'BRCA' 'LUAD' 'LUAD'\n",
            " 'LUAD' 'LUAD' 'BRCA' 'BRCA' 'LUAD' 'BRCA' 'BRCA' 'PRAD' 'PRAD' 'LUAD'\n",
            " 'PRAD' 'LUAD' 'KIRC' 'BRCA' 'PRAD' 'LUAD' 'COAD' 'KIRC' 'LUAD' 'BRCA'\n",
            " 'KIRC' 'LUAD' 'BRCA' 'LUAD' 'BRCA' 'BRCA' 'BRCA' 'PRAD' 'BRCA' 'KIRC'\n",
            " 'COAD' 'KIRC' 'BRCA' 'PRAD' 'PRAD' 'PRAD' 'LUAD' 'LUAD' 'BRCA' 'LUAD'\n",
            " 'LUAD' 'KIRC' 'LUAD' 'PRAD' 'LUAD' 'BRCA' 'BRCA' 'BRCA' 'LUAD' 'LUAD'\n",
            " 'BRCA' 'KIRC' 'KIRC' 'KIRC' 'KIRC' 'PRAD' 'BRCA' 'PRAD' 'BRCA' 'LUAD'\n",
            " 'LUAD' 'BRCA' 'PRAD' 'BRCA' 'PRAD' 'BRCA' 'BRCA' 'BRCA' 'LUAD' 'BRCA'\n",
            " 'KIRC' 'LUAD' 'KIRC' 'KIRC' 'LUAD' 'BRCA' 'KIRC' 'PRAD' 'BRCA' 'LUAD'\n",
            " 'LUAD' 'PRAD' 'COAD' 'BRCA' 'KIRC' 'PRAD' 'KIRC' 'COAD' 'BRCA' 'KIRC'\n",
            " 'KIRC' 'LUAD' 'PRAD' 'PRAD' 'LUAD' 'LUAD' 'KIRC' 'BRCA' 'BRCA' 'COAD'\n",
            " 'BRCA' 'PRAD' 'COAD' 'BRCA' 'PRAD' 'KIRC' 'PRAD' 'PRAD' 'PRAD' 'BRCA'\n",
            " 'COAD' 'COAD' 'LUAD' 'COAD' 'COAD' 'PRAD' 'LUAD' 'BRCA' 'BRCA' 'KIRC'\n",
            " 'KIRC' 'BRCA' 'COAD' 'PRAD' 'KIRC' 'PRAD' 'BRCA' 'BRCA' 'KIRC' 'BRCA'\n",
            " 'BRCA' 'BRCA' 'BRCA' 'LUAD' 'LUAD' 'BRCA' 'BRCA' 'BRCA' 'KIRC' 'KIRC'\n",
            " 'KIRC' 'KIRC' 'BRCA' 'BRCA' 'BRCA' 'KIRC' 'BRCA' 'BRCA' 'LUAD' 'PRAD'\n",
            " 'BRCA' 'BRCA' 'COAD' 'LUAD' 'PRAD' 'BRCA' 'BRCA' 'BRCA' 'COAD' 'BRCA'\n",
            " 'PRAD' 'BRCA' 'COAD' 'LUAD' 'LUAD' 'PRAD' 'KIRC' 'BRCA' 'KIRC' 'KIRC'\n",
            " 'LUAD' 'COAD' 'KIRC' 'BRCA' 'BRCA' 'BRCA' 'BRCA' 'KIRC' 'BRCA' 'BRCA'\n",
            " 'PRAD' 'BRCA' 'KIRC' 'BRCA' 'LUAD' 'PRAD' 'KIRC' 'BRCA' 'PRAD' 'COAD'\n",
            " 'BRCA' 'BRCA' 'BRCA' 'LUAD' 'LUAD' 'LUAD' 'BRCA' 'BRCA' 'PRAD' 'LUAD'\n",
            " 'BRCA' 'KIRC' 'BRCA' 'COAD' 'COAD' 'LUAD' 'BRCA' 'KIRC' 'BRCA' 'BRCA'\n",
            " 'BRCA' 'COAD' 'LUAD' 'COAD' 'KIRC' 'PRAD' 'KIRC' 'BRCA' 'BRCA' 'KIRC'\n",
            " 'BRCA' 'COAD' 'PRAD' 'LUAD' 'PRAD' 'BRCA' 'KIRC' 'PRAD' 'BRCA' 'COAD'\n",
            " 'KIRC' 'KIRC' 'COAD' 'COAD' 'PRAD' 'BRCA' 'BRCA' 'COAD' 'KIRC' 'BRCA'\n",
            " 'PRAD' 'BRCA' 'BRCA' 'BRCA' 'LUAD' 'LUAD' 'KIRC' 'LUAD' 'BRCA' 'KIRC'\n",
            " 'COAD' 'PRAD' 'BRCA' 'LUAD' 'PRAD' 'BRCA' 'BRCA' 'BRCA' 'LUAD' 'BRCA'\n",
            " 'BRCA' 'PRAD' 'BRCA' 'PRAD' 'COAD' 'BRCA' 'LUAD' 'BRCA' 'BRCA' 'LUAD'\n",
            " 'BRCA' 'BRCA' 'BRCA' 'KIRC' 'LUAD' 'PRAD' 'BRCA' 'PRAD' 'KIRC' 'BRCA'\n",
            " 'KIRC' 'COAD' 'BRCA' 'PRAD' 'LUAD' 'KIRC' 'BRCA' 'BRCA' 'KIRC' 'BRCA'\n",
            " 'LUAD' 'BRCA' 'BRCA' 'PRAD' 'COAD' 'BRCA' 'KIRC' 'LUAD' 'PRAD' 'BRCA'\n",
            " 'PRAD' 'BRCA' 'BRCA' 'BRCA' 'BRCA' 'KIRC' 'LUAD' 'BRCA' 'KIRC' 'BRCA'\n",
            " 'BRCA' 'LUAD' 'LUAD' 'KIRC' 'COAD' 'PRAD' 'COAD' 'BRCA' 'KIRC' 'KIRC'\n",
            " 'BRCA' 'PRAD' 'KIRC' 'COAD' 'LUAD' 'LUAD' 'BRCA' 'PRAD' 'PRAD' 'BRCA'\n",
            " 'PRAD' 'LUAD' 'KIRC' 'PRAD' 'BRCA' 'LUAD' 'PRAD' 'LUAD' 'BRCA' 'BRCA'\n",
            " 'COAD' 'LUAD' 'KIRC' 'COAD' 'LUAD' 'BRCA' 'PRAD' 'BRCA' 'BRCA' 'PRAD'\n",
            " 'BRCA' 'COAD' 'BRCA' 'COAD' 'KIRC' 'BRCA' 'BRCA' 'LUAD' 'LUAD' 'LUAD'\n",
            " 'COAD' 'KIRC' 'LUAD' 'LUAD' 'BRCA' 'BRCA' 'KIRC' 'PRAD' 'LUAD' 'PRAD'\n",
            " 'BRCA' 'KIRC' 'BRCA' 'KIRC' 'KIRC' 'PRAD' 'PRAD' 'LUAD' 'BRCA' 'KIRC'\n",
            " 'COAD' 'COAD' 'BRCA' 'KIRC' 'KIRC' 'BRCA' 'BRCA' 'PRAD' 'KIRC' 'COAD'\n",
            " 'BRCA' 'BRCA' 'COAD' 'LUAD' 'BRCA' 'BRCA' 'BRCA' 'KIRC' 'PRAD' 'LUAD'\n",
            " 'LUAD' 'BRCA' 'KIRC' 'COAD' 'KIRC' 'KIRC' 'BRCA' 'PRAD' 'LUAD' 'KIRC'\n",
            " 'BRCA' 'COAD' 'LUAD' 'LUAD' 'LUAD' 'PRAD' 'LUAD' 'KIRC' 'BRCA' 'BRCA'\n",
            " 'COAD' 'PRAD' 'BRCA' 'BRCA' 'BRCA' 'KIRC' 'LUAD' 'LUAD' 'BRCA' 'PRAD'\n",
            " 'LUAD' 'LUAD' 'BRCA' 'KIRC' 'PRAD' 'COAD' 'LUAD' 'PRAD' 'COAD' 'LUAD'\n",
            " 'COAD' 'KIRC' 'KIRC' 'BRCA' 'BRCA' 'KIRC' 'KIRC' 'COAD' 'BRCA' 'LUAD'\n",
            " 'PRAD' 'PRAD' 'KIRC' 'BRCA' 'LUAD' 'BRCA' 'BRCA' 'COAD' 'BRCA' 'PRAD'\n",
            " 'PRAD' 'BRCA' 'BRCA' 'COAD' 'BRCA' 'KIRC' 'BRCA' 'BRCA' 'COAD' 'BRCA'\n",
            " 'PRAD' 'BRCA' 'BRCA' 'KIRC' 'PRAD' 'LUAD' 'BRCA' 'BRCA' 'KIRC' 'BRCA'\n",
            " 'BRCA' 'BRCA' 'BRCA' 'BRCA' 'COAD' 'LUAD' 'LUAD' 'BRCA' 'BRCA' 'BRCA'\n",
            " 'PRAD' 'BRCA' 'BRCA' 'KIRC' 'LUAD' 'LUAD' 'KIRC' 'KIRC' 'LUAD' 'KIRC'\n",
            " 'COAD' 'BRCA' 'COAD' 'KIRC' 'BRCA' 'BRCA' 'PRAD' 'PRAD' 'PRAD' 'LUAD'\n",
            " 'PRAD' 'PRAD' 'COAD' 'BRCA' 'BRCA' 'COAD' 'LUAD' 'KIRC' 'BRCA' 'KIRC'\n",
            " 'COAD' 'BRCA' 'BRCA' 'BRCA' 'PRAD' 'LUAD' 'KIRC' 'BRCA' 'PRAD' 'KIRC'\n",
            " 'PRAD' 'BRCA' 'LUAD' 'KIRC' 'PRAD' 'LUAD' 'PRAD' 'PRAD' 'BRCA' 'KIRC'\n",
            " 'PRAD' 'LUAD' 'COAD' 'COAD' 'BRCA' 'BRCA' 'BRCA' 'LUAD' 'KIRC' 'KIRC'\n",
            " 'KIRC' 'BRCA' 'LUAD' 'KIRC' 'PRAD' 'BRCA' 'LUAD' 'PRAD' 'BRCA' 'PRAD'\n",
            " 'BRCA' 'KIRC' 'BRCA' 'COAD' 'PRAD' 'PRAD' 'KIRC' 'PRAD' 'KIRC' 'BRCA'\n",
            " 'LUAD' 'LUAD' 'BRCA' 'BRCA' 'KIRC' 'BRCA' 'BRCA' 'BRCA' 'BRCA' 'KIRC'\n",
            " 'KIRC' 'PRAD' 'COAD' 'KIRC' 'BRCA' 'BRCA' 'KIRC' 'BRCA' 'LUAD' 'BRCA'\n",
            " 'BRCA' 'PRAD' 'BRCA' 'PRAD' 'BRCA' 'COAD' 'BRCA' 'BRCA' 'KIRC' 'LUAD'\n",
            " 'BRCA' 'BRCA' 'PRAD' 'BRCA' 'PRAD' 'COAD' 'BRCA' 'BRCA' 'BRCA' 'LUAD'\n",
            " 'BRCA' 'LUAD' 'BRCA' 'LUAD' 'KIRC' 'KIRC' 'COAD' 'COAD' 'BRCA' 'BRCA'\n",
            " 'BRCA' 'LUAD' 'BRCA' 'LUAD' 'KIRC' 'BRCA' 'LUAD' 'KIRC' 'LUAD' 'LUAD'\n",
            " 'LUAD' 'KIRC' 'BRCA' 'PRAD' 'BRCA' 'BRCA' 'KIRC' 'BRCA' 'PRAD' 'KIRC'\n",
            " 'BRCA' 'BRCA' 'BRCA' 'BRCA' 'PRAD' 'LUAD' 'BRCA' 'LUAD' 'COAD' 'PRAD'\n",
            " 'PRAD']\n"
          ],
          "name": "stdout"
        }
      ]
    },
    {
      "metadata": {
        "id": "jh4khX0bAStH",
        "colab_type": "code",
        "colab": {
          "base_uri": "https://localhost:8080/",
          "height": 138
        },
        "outputId": "e6ee44f9-5f7c-4a2b-887a-586465d87298"
      },
      "cell_type": "code",
      "source": [
        "#enoding categorical y\n",
        "cats=['BRCA','COAD','KIRC','LUAD','PRAD']\n",
        "y1=np.zeros((801,1))\n",
        "from sklearn.preprocessing import OneHotEncoder\n",
        "for i,lab in enumerate(y):\n",
        "  for j in range(len(cats)):\n",
        "    if lab==cats[j]:\n",
        "      y1[i,0]=j+1\n",
        "      break      \n",
        "\n",
        "onehotencoder = OneHotEncoder(categorical_features = [0])\n",
        "y1 = onehotencoder.fit_transform(y1).toarray()\n",
        "def test_train(X, y):\n",
        "# Splitting the dataset into the Training set and Test set\n",
        "  from sklearn.model_selection import train_test_split\n",
        "  X_train, X_test, y_train, y_test = train_test_split(X, y, test_size = 0.25, random_state = 0)\n",
        "# Feature Scaling\n",
        "  from sklearn.preprocessing import StandardScaler\n",
        "  sc = StandardScaler()\n",
        "  X_train = sc.fit_transform(X_train)\n",
        "  X_test = sc.transform(X_test)\n",
        "  return X_train, X_test, y_train, y_test"
      ],
      "execution_count": 52,
      "outputs": [
        {
          "output_type": "stream",
          "text": [
            "/usr/local/lib/python3.6/dist-packages/sklearn/preprocessing/_encoders.py:368: FutureWarning: The handling of integer data will change in version 0.22. Currently, the categories are determined based on the range [0, max(values)], while in the future they will be determined based on the unique values.\n",
            "If you want the future behaviour and silence this warning, you can specify \"categories='auto'\".\n",
            "In case you used a LabelEncoder before this OneHotEncoder to convert the categories to integers, then you can now use the OneHotEncoder directly.\n",
            "  warnings.warn(msg, FutureWarning)\n",
            "/usr/local/lib/python3.6/dist-packages/sklearn/preprocessing/_encoders.py:390: DeprecationWarning: The 'categorical_features' keyword is deprecated in version 0.20 and will be removed in 0.22. You can use the ColumnTransformer instead.\n",
            "  \"use the ColumnTransformer instead.\", DeprecationWarning)\n"
          ],
          "name": "stderr"
        }
      ]
    },
    {
      "metadata": {
        "id": "ggxKIIBg_YIY",
        "colab_type": "code",
        "colab": {}
      },
      "cell_type": "code",
      "source": [
        "def model(X_train, X_test, y_train, y_test):\n",
        "# Implementing gaussian svm classifier\n",
        "  from sklearn.svm import SVC\n",
        "  classifier = SVC(kernel = 'rbf', random_state = 0)\n",
        "  classifier.fit(X_train, y_train)\n",
        "\n",
        "\n",
        "  # Predicting the Test set results\n",
        "  y_pred = classifier.predict(X_test)\n",
        "\n",
        "  # Making the Confusion Matrix\n",
        "  from sklearn.metrics import confusion_matrix\n",
        "  cm = confusion_matrix(y_test, y_pred)\n",
        "  precision=cm[1,1]/(cm[0,1]+cm[1,1])\n",
        "  recall=cm[1,1]/(cm[1,0]+cm[1,1])\n",
        "  f1=2*precision*recall/(precision+recall)\n",
        "  print(f1)\n",
        "  "
      ],
      "execution_count": 0,
      "outputs": []
    },
    {
      "metadata": {
        "id": "xpYM8faqOTzO",
        "colab_type": "code",
        "colab": {
          "base_uri": "https://localhost:8080/",
          "height": 289
        },
        "outputId": "f99f7fa6-e4e4-46a0-8fc8-291522e6593f"
      },
      "cell_type": "code",
      "source": [
        "for i in range(5):\n",
        "  X_train, X_test, y_train, y_test=test_train(X,y1[:,i])\n",
        "  model(X_train, X_test, y_train, y_test)"
      ],
      "execution_count": 68,
      "outputs": [
        {
          "output_type": "stream",
          "text": [
            "/usr/local/lib/python3.6/dist-packages/sklearn/svm/base.py:196: FutureWarning: The default value of gamma will change from 'auto' to 'scale' in version 0.22 to account better for unscaled features. Set gamma explicitly to 'auto' or 'scale' to avoid this warning.\n",
            "  \"avoid this warning.\", FutureWarning)\n"
          ],
          "name": "stderr"
        },
        {
          "output_type": "stream",
          "text": [
            "1.0\n"
          ],
          "name": "stdout"
        },
        {
          "output_type": "stream",
          "text": [
            "/usr/local/lib/python3.6/dist-packages/sklearn/svm/base.py:196: FutureWarning: The default value of gamma will change from 'auto' to 'scale' in version 0.22 to account better for unscaled features. Set gamma explicitly to 'auto' or 'scale' to avoid this warning.\n",
            "  \"avoid this warning.\", FutureWarning)\n"
          ],
          "name": "stderr"
        },
        {
          "output_type": "stream",
          "text": [
            "1.0\n"
          ],
          "name": "stdout"
        },
        {
          "output_type": "stream",
          "text": [
            "/usr/local/lib/python3.6/dist-packages/sklearn/svm/base.py:196: FutureWarning: The default value of gamma will change from 'auto' to 'scale' in version 0.22 to account better for unscaled features. Set gamma explicitly to 'auto' or 'scale' to avoid this warning.\n",
            "  \"avoid this warning.\", FutureWarning)\n"
          ],
          "name": "stderr"
        },
        {
          "output_type": "stream",
          "text": [
            "1.0\n"
          ],
          "name": "stdout"
        },
        {
          "output_type": "stream",
          "text": [
            "/usr/local/lib/python3.6/dist-packages/sklearn/svm/base.py:196: FutureWarning: The default value of gamma will change from 'auto' to 'scale' in version 0.22 to account better for unscaled features. Set gamma explicitly to 'auto' or 'scale' to avoid this warning.\n",
            "  \"avoid this warning.\", FutureWarning)\n"
          ],
          "name": "stderr"
        },
        {
          "output_type": "stream",
          "text": [
            "0.96875\n"
          ],
          "name": "stdout"
        },
        {
          "output_type": "stream",
          "text": [
            "/usr/local/lib/python3.6/dist-packages/sklearn/svm/base.py:196: FutureWarning: The default value of gamma will change from 'auto' to 'scale' in version 0.22 to account better for unscaled features. Set gamma explicitly to 'auto' or 'scale' to avoid this warning.\n",
            "  \"avoid this warning.\", FutureWarning)\n"
          ],
          "name": "stderr"
        },
        {
          "output_type": "stream",
          "text": [
            "0.967741935483871\n"
          ],
          "name": "stdout"
        }
      ]
    },
    {
      "metadata": {
        "id": "UVBfgd61YrgZ",
        "colab_type": "code",
        "colab": {}
      },
      "cell_type": "code",
      "source": [
        ""
      ],
      "execution_count": 0,
      "outputs": []
    }
  ]
}